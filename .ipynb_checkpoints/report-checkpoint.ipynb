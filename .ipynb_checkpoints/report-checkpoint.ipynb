{
 "cells": [
  {
   "cell_type": "code",
   "execution_count": null,
   "metadata": {},
   "outputs": [],
   "source": [
    "!pip3 install fpdf\n",
    "!pip3 install names\n",
    "!pip3 install icd10-cm\n",
    "!pip3 install transformers\n",
    "!pip3 install tensorflow==2.1"
   ]
  },
  {
   "cell_type": "code",
   "execution_count": 7,
   "metadata": {},
   "outputs": [],
   "source": [
    "no_of_reports = 2"
   ]
  },
  {
   "cell_type": "code",
   "execution_count": 2,
   "metadata": {},
   "outputs": [
    {
     "name": "stdout",
     "output_type": "stream",
     "text": [
      "03/24/1972\n"
     ]
    }
   ],
   "source": [
    "#random dates\n",
    "import random\n",
    "import time\n",
    "\n",
    "def str_time_prop(start, end, format, prop):\n",
    "    \"\"\"Get a time at a proportion of a range of two formatted times.\n",
    "\n",
    "    start and end should be strings specifying times formated in the\n",
    "    given format (strftime-style), giving an interval [start, end].\n",
    "    prop specifies how a proportion of the interval to be taken after\n",
    "    start.  The returned time will be in the specified format.\n",
    "    \"\"\"\n",
    "\n",
    "    stime = time.mktime(time.strptime(start, format))\n",
    "    etime = time.mktime(time.strptime(end, format))\n",
    "\n",
    "    ptime = stime + prop * (etime - stime)\n",
    "\n",
    "    return time.strftime(format, time.localtime(ptime))\n",
    "\n",
    "\n",
    "def random_date(start, end, prop):\n",
    "    return str_time_prop(start, end, '%m/%d/%Y', prop)\n",
    "\n",
    "print(random_date(\"1/1/1960\", \"1/1/2002\", random.random()))"
   ]
  },
  {
   "cell_type": "code",
   "execution_count": 3,
   "metadata": {},
   "outputs": [],
   "source": [
    "import csv\n",
    "drugs = list(csv.reader(open('drug/Products.txt', 'r'), delimiter='\\t'))"
   ]
  },
  {
   "cell_type": "code",
   "execution_count": 4,
   "metadata": {},
   "outputs": [
    {
     "data": {
      "application/vnd.jupyter.widget-view+json": {
       "model_id": "4b348cf4465242538ad0c5e2188c6556",
       "version_major": 2,
       "version_minor": 0
      },
      "text/plain": [
       "HBox(children=(FloatProgress(value=0.0, description='Downloading', max=1042301.0, style=ProgressStyle(descript…"
      ]
     },
     "metadata": {},
     "output_type": "display_data"
    },
    {
     "name": "stdout",
     "output_type": "stream",
     "text": [
      "\n"
     ]
    },
    {
     "data": {
      "application/vnd.jupyter.widget-view+json": {
       "model_id": "6df689b618b34e4785cb178774ae670c",
       "version_major": 2,
       "version_minor": 0
      },
      "text/plain": [
       "HBox(children=(FloatProgress(value=0.0, description='Downloading', max=456318.0, style=ProgressStyle(descripti…"
      ]
     },
     "metadata": {},
     "output_type": "display_data"
    },
    {
     "name": "stdout",
     "output_type": "stream",
     "text": [
      "\n"
     ]
    },
    {
     "data": {
      "application/vnd.jupyter.widget-view+json": {
       "model_id": "c837c2a6994b4fcc8d1d2663cc73a375",
       "version_major": 2,
       "version_minor": 0
      },
      "text/plain": [
       "HBox(children=(FloatProgress(value=0.0, description='Downloading', max=665.0, style=ProgressStyle(description_…"
      ]
     },
     "metadata": {},
     "output_type": "display_data"
    },
    {
     "name": "stdout",
     "output_type": "stream",
     "text": [
      "\n"
     ]
    },
    {
     "data": {
      "application/vnd.jupyter.widget-view+json": {
       "model_id": "234ef9a023eb41e6855cdd52ec9668a0",
       "version_major": 2,
       "version_minor": 0
      },
      "text/plain": [
       "HBox(children=(FloatProgress(value=0.0, description='Downloading', max=497933648.0, style=ProgressStyle(descri…"
      ]
     },
     "metadata": {},
     "output_type": "display_data"
    },
    {
     "name": "stdout",
     "output_type": "stream",
     "text": [
      "\n"
     ]
    },
    {
     "name": "stderr",
     "output_type": "stream",
     "text": [
      "All model checkpoint weights were used when initializing TFGPT2LMHeadModel.\n",
      "\n",
      "All the weights of TFGPT2LMHeadModel were initialized from the model checkpoint at gpt2.\n",
      "If your task is similar to the task the model of the ckeckpoint was trained on, you can already use TFGPT2LMHeadModel for predictions without further training.\n"
     ]
    }
   ],
   "source": [
    "import tensorflow as tf\n",
    "from transformers import TFGPT2LMHeadModel, GPT2Tokenizer\n",
    "\n",
    "\n",
    "tokenizer = GPT2Tokenizer.from_pretrained(\"gpt2\")\n",
    "\n",
    "# add the EOS token as PAD token to avoid warnings\n",
    "model = TFGPT2LMHeadModel.from_pretrained(\"gpt2\", pad_token_id=tokenizer.eos_token_id)"
   ]
  },
  {
   "cell_type": "code",
   "execution_count": 9,
   "metadata": {},
   "outputs": [
    {
     "ename": "SyntaxError",
     "evalue": "invalid syntax (<ipython-input-9-9a78eba88075>, line 6)",
     "output_type": "error",
     "traceback": [
      "\u001b[0;36m  File \u001b[0;32m\"<ipython-input-9-9a78eba88075>\"\u001b[0;36m, line \u001b[0;32m6\u001b[0m\n\u001b[0;31m    for j in range(1,int(no_of_reports+1):\u001b[0m\n\u001b[0m                                         ^\u001b[0m\n\u001b[0;31mSyntaxError\u001b[0m\u001b[0;31m:\u001b[0m invalid syntax\n"
     ]
    }
   ],
   "source": [
    "import os\n",
    "from fpdf import FPDF\n",
    "import random\n",
    "import names\n",
    "\n",
    "for j in range(1,int(no_of_reports+1)):\n",
    "    pdf = FPDF(format = 'A4')\n",
    "    pdf.add_page()\n",
    "    pdf.set_font('helvetica', '', 13.0)\n",
    "    pdf.set_xy(60,8)\n",
    "    pdf.cell(ln=1, h=22.0, align='C', w=75.0, txt='Discharge Summary (Synthetically generated, contains meaningless text)', border=0)\n",
    "    pdf.set_x(25)\n",
    "    pdf.set_font('helvetica', '', 10.0)\n",
    "    gender = \"male\" if random.random() > 0.5  else \"female\"\n",
    "\n",
    "    pdf.cell(ln=0, h=8.0, align='L', w=75, txt='Name', border=1)\n",
    "    pdf.cell(ln=1, h=8.0, align='L', w=75, txt=names.get_full_name(gender=gender), border=1)\n",
    "\n",
    "\n",
    "    pdf.set_x(25)\n",
    "    pdf.cell(ln=0, h=8.0, align='L', w=75, txt='Birth Date', border=1)\n",
    "    pdf.cell(ln=1, h=8.0, align='L', w=75, txt=random_date(\"1/1/1960\", \"1/1/2002\", random.random()), border=1)\n",
    "\n",
    "    pdf.set_x(25)\n",
    "    pdf.cell(ln=0, h=8.0, align='L', w=75, txt='Gender', border=1)\n",
    "    pdf.cell(ln=1, h=8.0, align='L', w=75, txt=gender, border=1)\n",
    "\n",
    "    pdf.set_x(25)\n",
    "    pdf.cell(ln=0, h=8.0, align='L', w=75, txt='Post Code', border=1)\n",
    "    pdf.cell(ln=1, h=8.0, align='L', w=75, txt=str(int(4000*random.random())), border=1)\n",
    "\n",
    "    pdf.dashed_line(20, 65, 180, 65, dash_length = 1, space_length = 1)\n",
    "\n",
    "    pdf.set_xy(25,70)\n",
    "    pdf.cell(ln=0, h=8.0, align='L', w=75, txt='Admission Date', border=1)\n",
    "    pdf.cell(ln=1, h=8.0, align='L', w=75, txt=random_date(\"01/01/2020\", \"01/01/2020\", random.random()), border=1)\n",
    "\n",
    "\n",
    "    pdf.set_x(25)\n",
    "    pdf.cell(ln=0, h=8.0, align='L', w=75, txt='Discharge Date', border=1)\n",
    "    pdf.cell(ln=1, h=8.0, align='L', w=75, txt=random_date(\"01/02/2020\", \"02/01/2020\", random.random()), border=1)\n",
    "\n",
    "    pdf.dashed_line(20, 90, 180, 90, dash_length = 1, space_length = 1)\n",
    "    pdf.set_x(60)\n",
    "    pdf.set_font('helvetica', '', 13.0)\n",
    "    pdf.cell(ln=1, h=13.0, align='C', w=75.0, txt='Medications', border=0)\n",
    "\n",
    "    pdf.set_font('helvetica', '', 10.0)\n",
    "\n",
    "    for i in range(1,5):\n",
    "        pdf.set_x(25)\n",
    "        pdf.cell(ln=1, h=4.0, align='L', w=120, txt=drugs[int(random.random()*41070)+1][5], border=1)\n",
    "\n",
    "    pdf.set_font('helvetica', '', 10.0)\n",
    "\n",
    "    pdf.set_line_width(0.0)\n",
    "    pdf.rect(15.0, 15.0, 170.0, 245.0)\n",
    "\n",
    "\n",
    "    codes = list(['I30','I31','I32','I33','I34','I35','I36','I37','I38','I39',\n",
    "                 'H05','H10','H12','H54','H34','H22','H44','H01','H24','H55',\n",
    "                 'M05','M10','M12','M54','M34','M22','M44','M01','M24','M55'])\n",
    "    import icd10\n",
    "\n",
    "    for i in range(1,3):\n",
    "        code = icd10.find(codes[int(random.random()*28)])\n",
    "        if not code:\n",
    "            continue\n",
    "        print(code.description)\n",
    "        input_ids = tokenizer.encode('The patient was diagnosed with ' + code.description +\" and showed symptoms of\", return_tensors='tf')\n",
    "        sample_outputs = model.generate(input_ids,do_sample=True, max_length=100, top_k=100, top_p=0.85, num_return_sequences=1)\n",
    "        output = tokenizer.decode(sample_outputs[0], skip_special_tokens=True).replace(\"\\r\\n\", \"\").replace('\\n\\n', '').replace('\\n', '')\n",
    "        pdf.set_xy(25,65+(i*60))\n",
    "        pdf.multi_cell( h=4.0, align='L', w=160, txt=output, border=0)\n",
    "        input_ids = tokenizer.encode('The patient was given  ' + drugs[int(random.random()*41070)+1][5], return_tensors='tf')\n",
    "        sample_outputs = model.generate(input_ids,do_sample=True, max_length=100, top_k=100, top_p=0.85, num_return_sequences=1)\n",
    "        output = tokenizer.decode(sample_outputs[0], skip_special_tokens=True).replace(\"\\r\\n\", \"\").replace('\\n\\n', '').replace('\\n', '')\n",
    "        pdf.set_xy(25,100+(i*60))\n",
    "        pdf.multi_cell( h=4.0, align='L', w=160, txt=output, border=0)\n",
    "    pdf.output(f\"./invoice{j}.pdf\", 'F')\n"
   ]
  },
  {
   "cell_type": "code",
   "execution_count": null,
   "metadata": {},
   "outputs": [],
   "source": []
  }
 ],
 "metadata": {
  "kernelspec": {
   "display_name": "conda_python3",
   "language": "python",
   "name": "conda_python3"
  },
  "language_info": {
   "codemirror_mode": {
    "name": "ipython",
    "version": 3
   },
   "file_extension": ".py",
   "mimetype": "text/x-python",
   "name": "python",
   "nbconvert_exporter": "python",
   "pygments_lexer": "ipython3",
   "version": "3.6.10"
  }
 },
 "nbformat": 4,
 "nbformat_minor": 4
}
